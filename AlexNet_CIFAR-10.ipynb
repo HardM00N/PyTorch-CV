{
 "cells": [
  {
   "cell_type": "markdown",
   "id": "0098ee41",
   "metadata": {},
   "source": [
    "# AlexNet Model Implementation\n",
    "---\n",
    "## 1. Load CIFAR-10\n",
    "- 구현에 쓰인 학습 데이터셋은 `pytorch.datasets`에 내장된 CIFAR10을 사용함. "
   ]
  },
  {
   "cell_type": "code",
   "execution_count": 1,
   "id": "920f6e29",
   "metadata": {},
   "outputs": [],
   "source": [
    "import torch\n",
    "import torch.nn as nn\n",
    "from torchvision import transforms, datasets"
   ]
  },
  {
   "cell_type": "code",
   "execution_count": 2,
   "id": "1d2bafe8",
   "metadata": {},
   "outputs": [
    {
     "name": "stdout",
     "output_type": "stream",
     "text": [
      "cuda:0\n"
     ]
    }
   ],
   "source": [
    "devices = torch.device('cuda:0' if torch.cuda.is_available() else 'cpu')\n",
    "print(devices)"
   ]
  },
  {
   "cell_type": "code",
   "execution_count": 3,
   "id": "934a9e48",
   "metadata": {},
   "outputs": [],
   "source": [
    "BATCH_SIZE = 256\n",
    "EPOCHS = 20"
   ]
  },
  {
   "cell_type": "code",
   "execution_count": 4,
   "id": "811643f3",
   "metadata": {},
   "outputs": [],
   "source": [
    "# transforms : 이미지 데이터를 로딩할 때 모듈의 입력값으로 사용할 수 있도록 변환\n",
    "\n",
    "transform = transforms.Compose([\n",
    "#     transforms.Resize(227),\n",
    "    transforms.ToTensor(),\n",
    "#     transforms.Normalize((0.5, 0.5, 0.5), (0.5, 0.5, 0.5))\n",
    "])"
   ]
  },
  {
   "cell_type": "code",
   "execution_count": 5,
   "id": "ad0dcc56",
   "metadata": {},
   "outputs": [
    {
     "name": "stdout",
     "output_type": "stream",
     "text": [
      "Files already downloaded and verified\n",
      "Files already downloaded and verified\n",
      "(50000, 32, 32, 3)\n",
      "(10000, 32, 32, 3)\n"
     ]
    }
   ],
   "source": [
    "# CIFAR-10\n",
    "\n",
    "train_set = datasets.CIFAR10('./CIFAR-10', download=True, train=True, transform=transform)\n",
    "# train_loader = torch.utils.data.DataLoader(train_set, batch_size=BATCH_SIZE, shuffle=True)\n",
    "\n",
    "test_set = datasets.CIFAR10('./CIFAR-10', download=True, train=False, transform=transform)\n",
    "# test_loader = torch.utils.data.DataLoader(test_set, batch_size=BATCH_SIZE, shuffle=True)\n",
    "\n",
    "print(train_set.data.shape)\n",
    "print(test_set.data.shape)"
   ]
  },
  {
   "cell_type": "code",
   "execution_count": 6,
   "id": "2175c56d",
   "metadata": {},
   "outputs": [
    {
     "name": "stdout",
     "output_type": "stream",
     "text": [
      "0.49139965 0.48215845 0.4465309\n",
      "0.20220213 0.19931543 0.20086348\n"
     ]
    }
   ],
   "source": [
    "# 데이터 정규화를 위해 평균, 표준편차 값 계산\n",
    "\n",
    "import numpy as np\n",
    "\n",
    "meanRGB = [np.mean(x.numpy(), axis=(1, 2)) for x, _ in train_set]\n",
    "stdRGB = [np.std(x.numpy(), axis=(1, 2)) for x, _ in train_set]\n",
    "\n",
    "meanR = np.mean([m[0] for m in meanRGB])\n",
    "meanG = np.mean([m[1] for m in meanRGB])\n",
    "meanB = np.mean([m[2] for m in meanRGB])\n",
    "\n",
    "stdR = np.mean([s[0] for s in stdRGB])\n",
    "stdG = np.mean([s[1] for s in stdRGB])\n",
    "stdB = np.mean([s[2] for s in stdRGB])\n",
    "\n",
    "print(meanR, meanG, meanB)\n",
    "print(stdR, stdG, stdB)"
   ]
  },
  {
   "cell_type": "code",
   "execution_count": 7,
   "id": "b9fe1361",
   "metadata": {},
   "outputs": [],
   "source": [
    "transformer = transforms.Compose([\n",
    "    transforms.ToTensor(),\n",
    "    transforms.Resize(227),\n",
    "    transforms.Normalize([meanR, meanG, meanB], [stdR, stdG, stdB])\n",
    "])"
   ]
  },
  {
   "cell_type": "code",
   "execution_count": 8,
   "id": "3c01efdc",
   "metadata": {},
   "outputs": [],
   "source": [
    "train_set.transform = transformer\n",
    "test_set.transform = transformer\n",
    "\n",
    "train_loader = torch.utils.data.DataLoader(train_set, batch_size=BATCH_SIZE, shuffle=True)\n",
    "test_loader = torch.utils.data.DataLoader(test_set, batch_size=BATCH_SIZE, shuffle=True)"
   ]
  },
  {
   "cell_type": "markdown",
   "id": "616a3134",
   "metadata": {},
   "source": [
    "## 2. 모델 구축"
   ]
  },
  {
   "cell_type": "code",
   "execution_count": 9,
   "id": "b05e1e69",
   "metadata": {},
   "outputs": [],
   "source": [
    "# 모델 구축\n",
    "\n",
    "class AlexNet(nn.Module):\n",
    "    def __init__(self, input_size=227, num_classes=10):\n",
    "        super(AlexNet, self).__init__()\n",
    "        \n",
    "        self.cnnLayer = nn.Sequential(\n",
    "            \n",
    "            # 1st Conv : conv, relu, lrn, pool\n",
    "            # 227 -> 55\n",
    "            nn.Conv2d(in_channels=3, out_channels=96, kernel_size=11, padding=0, stride=4),\n",
    "            # inplace=True : input으로 들어온 값 자체를 수정함. 메모리 usage가 좀 좋아지나 input을 없앰. \n",
    "            nn.ReLU(inplace=True),\n",
    "            nn.LocalResponseNorm(size=5, alpha=0.0001, beta=0.75, k=2),\n",
    "            # 55 -> 27\n",
    "            nn.MaxPool2d(kernel_size=3, stride=2),\n",
    "            \n",
    "            \n",
    "            # 2nd Conv : conv, relu, lrn, pool\n",
    "            # 27 -> 27\n",
    "            nn.Conv2d(in_channels=96, out_channels=256, kernel_size=5, padding=2, stride=1),\n",
    "            nn.ReLU(inplace=True),\n",
    "            nn.LocalResponseNorm(size=4, alpha=0.0001, beta=0.75, k=2),\n",
    "            nn.MaxPool2d(kernel_size=3, stride=2),\n",
    "            \n",
    "            \n",
    "            # 3rd Conv : conv, relu\n",
    "            # 27 -> 27\n",
    "            nn.Conv2d(in_channels=256, out_channels=384, kernel_size=3, padding=1, stride=1),\n",
    "            nn.ReLU(inplace=True),\n",
    "            \n",
    "            \n",
    "            # 4th Conv : conv, relu\n",
    "            nn.Conv2d(in_channels=384, out_channels=384, kernel_size=3, padding=1, stride=1),\n",
    "            nn.ReLU(inplace=True),\n",
    "            \n",
    "            \n",
    "            # 5th Conv : conv, relu, pool\n",
    "            nn.Conv2d(in_channels=384, out_channels=256, kernel_size=3, padding=1, stride=1),\n",
    "            nn.ReLU(inplace=True),\n",
    "            nn.MaxPool2d(kernel_size=3, stride=2)\n",
    "        )\n",
    "        \n",
    "        # fully connected layer\n",
    "        self.fcLayer = nn.Sequential(\n",
    "            nn.Linear(256 * 6 * 6, 4096),\n",
    "            nn.ReLU(inplace=True),\n",
    "            nn.Dropout(p=0.5),\n",
    "            nn.Linear(4096, 4096),\n",
    "            nn.ReLU(inplace=True),\n",
    "            nn.Dropout(p=0.5),\n",
    "            nn.Linear(4096, num_classes)\n",
    "        )\n",
    "        \n",
    "        # 정규화 및 bias 초기화\n",
    "        for layer in self.cnnLayer:\n",
    "            if isinstance(layer, nn.Conv2d):\n",
    "                # conv 레이어들을 가우시안 분포로 정규화하고 bias는 0\n",
    "                nn.init.normal_(layer.weight, mean=0, std=0.01)\n",
    "                nn.init.constant_(layer.bias, 0)\n",
    "                \n",
    "        # 그런데 2, 4, 5 conv는 1로 초기화\n",
    "        nn.init.constant_(self.cnnLayer[4].bias, 1)\n",
    "        nn.init.constant_(self.cnnLayer[10].bias, 1)\n",
    "        nn.init.constant_(self.cnnLayer[12].bias, 1)\n",
    "        \n",
    "    def forward(self, train):\n",
    "        output = self.cnnLayer(train)\n",
    "        output = output.view(-1, 256 * 6 * 6)\n",
    "        output = self.fcLayer(output)\n",
    "        \n",
    "        return output"
   ]
  },
  {
   "cell_type": "code",
   "execution_count": 10,
   "id": "001550df",
   "metadata": {},
   "outputs": [],
   "source": [
    "alexnet = AlexNet(227, 10)\n",
    "alexnet.to(devices)\n",
    "\n",
    "# weight decay = 0.0005, momentum = 0.9, lr = 0.01\n",
    "optimizer = torch.optim.SGD(alexnet.parameters(), lr=0.01, momentum=0.9, weight_decay=0.0005)\n",
    "criterion = nn.CrossEntropyLoss().to(devices)"
   ]
  },
  {
   "cell_type": "markdown",
   "id": "d0449b62",
   "metadata": {},
   "source": [
    "## 3. 모델 학습"
   ]
  },
  {
   "cell_type": "code",
   "execution_count": 11,
   "id": "cbcd5bae",
   "metadata": {},
   "outputs": [
    {
     "data": {
      "application/vnd.jupyter.widget-view+json": {
       "model_id": "0b939d4e932f4d538bd4ceba842ddb1c",
       "version_major": 2,
       "version_minor": 0
      },
      "text/plain": [
       "  0%|          | 0/196 [00:00<?, ?it/s]"
      ]
     },
     "metadata": {},
     "output_type": "display_data"
    },
    {
     "name": "stdout",
     "output_type": "stream",
     "text": [
      "1 : loss 452.137, val_acc 9.550\n"
     ]
    },
    {
     "data": {
      "application/vnd.jupyter.widget-view+json": {
       "model_id": "e3f7f42e7f32472195245acbf02b434c",
       "version_major": 2,
       "version_minor": 0
      },
      "text/plain": [
       "  0%|          | 0/196 [00:00<?, ?it/s]"
      ]
     },
     "metadata": {},
     "output_type": "display_data"
    },
    {
     "name": "stdout",
     "output_type": "stream",
     "text": [
      "2 : loss 451.381, val_acc 10.330\n"
     ]
    },
    {
     "data": {
      "application/vnd.jupyter.widget-view+json": {
       "model_id": "feaaf96f56c741a08d180ea62627e02c",
       "version_major": 2,
       "version_minor": 0
      },
      "text/plain": [
       "  0%|          | 0/196 [00:00<?, ?it/s]"
      ]
     },
     "metadata": {},
     "output_type": "display_data"
    },
    {
     "name": "stdout",
     "output_type": "stream",
     "text": [
      "3 : loss 451.368, val_acc 9.700\n"
     ]
    },
    {
     "data": {
      "application/vnd.jupyter.widget-view+json": {
       "model_id": "1c95985ac0c2444db66b1bb24be7dc09",
       "version_major": 2,
       "version_minor": 0
      },
      "text/plain": [
       "  0%|          | 0/196 [00:00<?, ?it/s]"
      ]
     },
     "metadata": {},
     "output_type": "display_data"
    },
    {
     "name": "stdout",
     "output_type": "stream",
     "text": [
      "4 : loss 451.342, val_acc 9.990\n"
     ]
    },
    {
     "data": {
      "application/vnd.jupyter.widget-view+json": {
       "model_id": "87284c24fc004629ac7a7f39c1e9feac",
       "version_major": 2,
       "version_minor": 0
      },
      "text/plain": [
       "  0%|          | 0/196 [00:00<?, ?it/s]"
      ]
     },
     "metadata": {},
     "output_type": "display_data"
    },
    {
     "name": "stdout",
     "output_type": "stream",
     "text": [
      "5 : loss 451.369, val_acc 9.880\n"
     ]
    },
    {
     "data": {
      "application/vnd.jupyter.widget-view+json": {
       "model_id": "c7e443a37f0045fb9cae28b59f9e7f88",
       "version_major": 2,
       "version_minor": 0
      },
      "text/plain": [
       "  0%|          | 0/196 [00:00<?, ?it/s]"
      ]
     },
     "metadata": {},
     "output_type": "display_data"
    },
    {
     "name": "stdout",
     "output_type": "stream",
     "text": [
      "6 : loss 451.346, val_acc 9.760\n"
     ]
    },
    {
     "data": {
      "application/vnd.jupyter.widget-view+json": {
       "model_id": "15d8b79ddefd48f395d449520885c27a",
       "version_major": 2,
       "version_minor": 0
      },
      "text/plain": [
       "  0%|          | 0/196 [00:00<?, ?it/s]"
      ]
     },
     "metadata": {},
     "output_type": "display_data"
    },
    {
     "name": "stdout",
     "output_type": "stream",
     "text": [
      "7 : loss 451.346, val_acc 10.070\n"
     ]
    },
    {
     "data": {
      "application/vnd.jupyter.widget-view+json": {
       "model_id": "816ff21fdd8c4bafb91862f1bbce9c5b",
       "version_major": 2,
       "version_minor": 0
      },
      "text/plain": [
       "  0%|          | 0/196 [00:00<?, ?it/s]"
      ]
     },
     "metadata": {},
     "output_type": "display_data"
    },
    {
     "name": "stdout",
     "output_type": "stream",
     "text": [
      "8 : loss 451.344, val_acc 10.080\n"
     ]
    },
    {
     "data": {
      "application/vnd.jupyter.widget-view+json": {
       "model_id": "0cc829125874427380a665d0c024220b",
       "version_major": 2,
       "version_minor": 0
      },
      "text/plain": [
       "  0%|          | 0/196 [00:00<?, ?it/s]"
      ]
     },
     "metadata": {},
     "output_type": "display_data"
    },
    {
     "name": "stdout",
     "output_type": "stream",
     "text": [
      "9 : loss 451.346, val_acc 10.440\n"
     ]
    },
    {
     "data": {
      "application/vnd.jupyter.widget-view+json": {
       "model_id": "efafc72de23d47fa8d5e3acd0ad0c54f",
       "version_major": 2,
       "version_minor": 0
      },
      "text/plain": [
       "  0%|          | 0/196 [00:00<?, ?it/s]"
      ]
     },
     "metadata": {},
     "output_type": "display_data"
    },
    {
     "name": "stdout",
     "output_type": "stream",
     "text": [
      "10 : loss 451.347, val_acc 9.700\n"
     ]
    },
    {
     "data": {
      "application/vnd.jupyter.widget-view+json": {
       "model_id": "ff01a372a88c4fd3a8bdddc076e454fe",
       "version_major": 2,
       "version_minor": 0
      },
      "text/plain": [
       "  0%|          | 0/196 [00:00<?, ?it/s]"
      ]
     },
     "metadata": {},
     "output_type": "display_data"
    },
    {
     "name": "stdout",
     "output_type": "stream",
     "text": [
      "11 : loss 451.342, val_acc 10.120\n"
     ]
    },
    {
     "data": {
      "application/vnd.jupyter.widget-view+json": {
       "model_id": "d5a8ebcc45914cb6bc47b33bde3a150f",
       "version_major": 2,
       "version_minor": 0
      },
      "text/plain": [
       "  0%|          | 0/196 [00:00<?, ?it/s]"
      ]
     },
     "metadata": {},
     "output_type": "display_data"
    },
    {
     "name": "stdout",
     "output_type": "stream",
     "text": [
      "12 : loss 451.340, val_acc 9.630\n"
     ]
    },
    {
     "data": {
      "application/vnd.jupyter.widget-view+json": {
       "model_id": "7d5b73230d2741619d0ece9d1f6bacf2",
       "version_major": 2,
       "version_minor": 0
      },
      "text/plain": [
       "  0%|          | 0/196 [00:00<?, ?it/s]"
      ]
     },
     "metadata": {},
     "output_type": "display_data"
    },
    {
     "name": "stdout",
     "output_type": "stream",
     "text": [
      "13 : loss 451.337, val_acc 10.000\n"
     ]
    },
    {
     "data": {
      "application/vnd.jupyter.widget-view+json": {
       "model_id": "cbb307539c1a4f668766165317a20fa9",
       "version_major": 2,
       "version_minor": 0
      },
      "text/plain": [
       "  0%|          | 0/196 [00:00<?, ?it/s]"
      ]
     },
     "metadata": {},
     "output_type": "display_data"
    },
    {
     "name": "stdout",
     "output_type": "stream",
     "text": [
      "14 : loss 451.345, val_acc 10.000\n"
     ]
    },
    {
     "data": {
      "application/vnd.jupyter.widget-view+json": {
       "model_id": "c8847fdf838b49f4b6f49534037cbd3e",
       "version_major": 2,
       "version_minor": 0
      },
      "text/plain": [
       "  0%|          | 0/196 [00:00<?, ?it/s]"
      ]
     },
     "metadata": {},
     "output_type": "display_data"
    },
    {
     "name": "stdout",
     "output_type": "stream",
     "text": [
      "15 : loss 451.331, val_acc 9.870\n"
     ]
    },
    {
     "data": {
      "application/vnd.jupyter.widget-view+json": {
       "model_id": "6857045f3a7e48a2993d10ad4bed6acd",
       "version_major": 2,
       "version_minor": 0
      },
      "text/plain": [
       "  0%|          | 0/196 [00:00<?, ?it/s]"
      ]
     },
     "metadata": {},
     "output_type": "display_data"
    },
    {
     "name": "stdout",
     "output_type": "stream",
     "text": [
      "16 : loss 451.330, val_acc 10.340\n"
     ]
    },
    {
     "data": {
      "application/vnd.jupyter.widget-view+json": {
       "model_id": "f5cb9773d0024558875151d248c3e61c",
       "version_major": 2,
       "version_minor": 0
      },
      "text/plain": [
       "  0%|          | 0/196 [00:00<?, ?it/s]"
      ]
     },
     "metadata": {},
     "output_type": "display_data"
    },
    {
     "name": "stdout",
     "output_type": "stream",
     "text": [
      "17 : loss 451.335, val_acc 10.140\n"
     ]
    },
    {
     "data": {
      "application/vnd.jupyter.widget-view+json": {
       "model_id": "b2e4a57ef7934c25a28d1fc40b17fd63",
       "version_major": 2,
       "version_minor": 0
      },
      "text/plain": [
       "  0%|          | 0/196 [00:00<?, ?it/s]"
      ]
     },
     "metadata": {},
     "output_type": "display_data"
    },
    {
     "name": "stdout",
     "output_type": "stream",
     "text": [
      "18 : loss 451.341, val_acc 9.960\n"
     ]
    },
    {
     "data": {
      "application/vnd.jupyter.widget-view+json": {
       "model_id": "6676af5d0e2e48d7a978209067010da0",
       "version_major": 2,
       "version_minor": 0
      },
      "text/plain": [
       "  0%|          | 0/196 [00:00<?, ?it/s]"
      ]
     },
     "metadata": {},
     "output_type": "display_data"
    },
    {
     "name": "stdout",
     "output_type": "stream",
     "text": [
      "19 : loss 451.335, val_acc 9.950\n"
     ]
    },
    {
     "data": {
      "application/vnd.jupyter.widget-view+json": {
       "model_id": "c83dd0743f6c41928afb3bfd4535d64c",
       "version_major": 2,
       "version_minor": 0
      },
      "text/plain": [
       "  0%|          | 0/196 [00:00<?, ?it/s]"
      ]
     },
     "metadata": {},
     "output_type": "display_data"
    },
    {
     "name": "stdout",
     "output_type": "stream",
     "text": [
      "20 : loss 451.341, val_acc 10.070\n",
      "끝\n"
     ]
    }
   ],
   "source": [
    "from tqdm.notebook import tqdm\n",
    "\n",
    "for epoch in range(EPOCHS): \n",
    "    epoch_loss = 0\n",
    "    for data, classes in tqdm(train_loader):\n",
    "        inputs, labels = data.to(devices), classes.to(devices)\n",
    "        \n",
    "        optimizer.zero_grad()\n",
    "        outputs = alexnet(inputs)\n",
    "        \n",
    "        # 순전파, 역전파, 최적화\n",
    "        loss = criterion(outputs, labels)\n",
    "        loss.backward()\n",
    "        optimizer.step()\n",
    "        \n",
    "        epoch_loss += loss.item()\n",
    "        \n",
    "    correct = list(0. for i in range(1000))\n",
    "    total = list(0. for i in range(1000))\n",
    "    \n",
    "    with torch.no_grad():\n",
    "        for data, classes in test_loader:\n",
    "            inputs, labels = data.to(devices), classes.to(devices)\n",
    "            outputs = alexnet(inputs)\n",
    "            _, predicted = torch.max(outputs, 1)\n",
    "            c = (predicted == labels).squeeze()\n",
    "            for i in range(labels.size()[0]):\n",
    "                label = labels[i]\n",
    "                correct[label] += c[i].item()\n",
    "                total[label] += 1\n",
    "                \n",
    "    print('{0} : loss {1:.3f}, val_acc {2:.3f}'.format(epoch+1, epoch_loss, (sum(correct) / sum(total)) * 100))\n",
    "print('끝')"
   ]
  },
  {
   "cell_type": "markdown",
   "id": "4edf1274",
   "metadata": {},
   "source": [
    "## 4. 회고 / TIL\n",
    "---\n",
    "- FashionMNIST에 이어서 CIFAR-10을 학습하는 AlexNet을 구현하고자 했음. \n",
    "- transforms 부분에서 normalize와 resize는 순서가 바뀌면 연산 결과가 달라질 것이라 생각했음. resize의 경우 interpolation을 하기 때문에 normalize가 먼저 이루어진 뒤에 interpolation된 것과 interplation 후 normalize한 결과가 다를 것이라 생각하고 transforms.Compose 정의 부분에서 고민에 빠졌는데, 실제 값을 찍어보니 결과가 같았음. 어쨌거나 normalize는 값을 특정한 range로 재설정하기 때문에 그런 것으로 결론지었음. \n",
    "- 앞서 구현한 FashionMNIST AlexNet 모델의 경우 LRN layer가 없었는데, 이번에 참고한 reference들에는 구현이 되어 있었다. 논문에 입각해 제대로 구현하려면 LRN layer가 있어야 할 것이다. \n",
    "- 모델 학습 부분의 코드가 복잡해 필사하면서 완벽히 이해하지 못했다. 아직 PyTorch가 낯설기도 하고... 많은 공부가 필요할 것 같다. \n",
    "- 학습 결과 loss와 val_acc 값이 이상하게 나왔다. 이 부분에 대해서도 개선이 필요함. "
   ]
  },
  {
   "cell_type": "markdown",
   "id": "5431ad91",
   "metadata": {},
   "source": [
    "## Reference\n",
    "---\n",
    "- https://papers.nips.cc/paper/2012/file/c399862d3b9d6b76c8436e924a68c45b-Paper.pdf\n",
    "- https://123okk2.tistory.com/171\n",
    "- https://deep-learning-study.tistory.com/518"
   ]
  }
 ],
 "metadata": {
  "kernelspec": {
   "display_name": "Python 3 (ipykernel)",
   "language": "python",
   "name": "python3"
  },
  "language_info": {
   "codemirror_mode": {
    "name": "ipython",
    "version": 3
   },
   "file_extension": ".py",
   "mimetype": "text/x-python",
   "name": "python",
   "nbconvert_exporter": "python",
   "pygments_lexer": "ipython3",
   "version": "3.7.13"
  }
 },
 "nbformat": 4,
 "nbformat_minor": 5
}
